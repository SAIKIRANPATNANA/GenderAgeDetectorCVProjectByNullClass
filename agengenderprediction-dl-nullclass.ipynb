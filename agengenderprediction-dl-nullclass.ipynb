{
 "cells": [
  {
   "cell_type": "code",
   "execution_count": 1,
   "id": "91295d36",
   "metadata": {
    "execution": {
     "iopub.execute_input": "2024-02-09T18:40:26.125160Z",
     "iopub.status.busy": "2024-02-09T18:40:26.124904Z",
     "iopub.status.idle": "2024-02-09T18:40:42.964335Z",
     "shell.execute_reply": "2024-02-09T18:40:42.963333Z"
    },
    "papermill": {
     "duration": 16.854154,
     "end_time": "2024-02-09T18:40:42.966850",
     "exception": false,
     "start_time": "2024-02-09T18:40:26.112696",
     "status": "completed"
    },
    "tags": []
   },
   "outputs": [
    {
     "name": "stderr",
     "output_type": "stream",
     "text": [
      "2024-02-10 17:41:43.851192: I external/local_tsl/tsl/cuda/cudart_stub.cc:31] Could not find cuda drivers on your machine, GPU will not be used.\n",
      "2024-02-10 17:41:43.971145: E external/local_xla/xla/stream_executor/cuda/cuda_dnn.cc:9261] Unable to register cuDNN factory: Attempting to register factory for plugin cuDNN when one has already been registered\n",
      "2024-02-10 17:41:43.971223: E external/local_xla/xla/stream_executor/cuda/cuda_fft.cc:607] Unable to register cuFFT factory: Attempting to register factory for plugin cuFFT when one has already been registered\n",
      "2024-02-10 17:41:43.975085: E external/local_xla/xla/stream_executor/cuda/cuda_blas.cc:1515] Unable to register cuBLAS factory: Attempting to register factory for plugin cuBLAS when one has already been registered\n",
      "2024-02-10 17:41:43.993002: I external/local_tsl/tsl/cuda/cudart_stub.cc:31] Could not find cuda drivers on your machine, GPU will not be used.\n",
      "2024-02-10 17:41:43.994148: I tensorflow/core/platform/cpu_feature_guard.cc:182] This TensorFlow binary is optimized to use available CPU instructions in performance-critical operations.\n",
      "To enable the following instructions: AVX2 FMA, in other operations, rebuild TensorFlow with the appropriate compiler flags.\n",
      "2024-02-10 17:41:45.505585: W tensorflow/compiler/tf2tensorrt/utils/py_utils.cc:38] TF-TRT Warning: Could not find TensorRT\n"
     ]
    }
   ],
   "source": [
    "import warnings as warn \n",
    "warn.filterwarnings('ignore')\n",
    "import tensorflow as tf\n",
    "import pandas as pd \n",
    "import numpy as np\n",
    "from sklearn.model_selection import train_test_split\n",
    "from sklearn.metrics import confusion_matrix,classification_report\n",
    "import cv2 as cv\n",
    "import matplotlib.pyplot as plt \n",
    "from tensorflow.keras.layers import Dropout, Flatten, BatchNormalization, Dense, MaxPooling2D, Conv2D, Input, Activation, Add \n",
    "from tensorflow.keras.models import Model \n",
    "from tensorflow.keras.regularizers import l2 \n",
    "from tensorflow.keras.optimizers import Adam, Adagrad, Adadelta, Adamax, RMSprop\n",
    "from tensorflow.keras.callbacks import ModelCheckpoint\n",
    "import seaborn as sns"
   ]
  },
  {
   "cell_type": "code",
   "execution_count": 2,
   "id": "6aa66b7f",
   "metadata": {
    "execution": {
     "iopub.execute_input": "2024-02-09T18:40:42.992380Z",
     "iopub.status.busy": "2024-02-09T18:40:42.991832Z",
     "iopub.status.idle": "2024-02-09T18:40:42.995986Z",
     "shell.execute_reply": "2024-02-09T18:40:42.995169Z"
    },
    "papermill": {
     "duration": 0.018978,
     "end_time": "2024-02-09T18:40:42.997899",
     "exception": false,
     "start_time": "2024-02-09T18:40:42.978921",
     "status": "completed"
    },
    "tags": []
   },
   "outputs": [],
   "source": [
    "file_dir = '/home/user/Documents/ML_DL_PROJECTS/GenderAgeDetectorCVProjectByNullClass/dataset/UTKFace'"
   ]
  },
  {
   "cell_type": "code",
   "execution_count": 3,
   "id": "eeb7d6f6",
   "metadata": {
    "execution": {
     "iopub.execute_input": "2024-02-09T18:40:43.023236Z",
     "iopub.status.busy": "2024-02-09T18:40:43.022649Z",
     "iopub.status.idle": "2024-02-09T18:40:43.026536Z",
     "shell.execute_reply": "2024-02-09T18:40:43.025753Z"
    },
    "papermill": {
     "duration": 0.018992,
     "end_time": "2024-02-09T18:40:43.028372",
     "exception": false,
     "start_time": "2024-02-09T18:40:43.009380",
     "status": "completed"
    },
    "tags": []
   },
   "outputs": [],
   "source": [
    "import os"
   ]
  },
  {
   "cell_type": "code",
   "execution_count": 4,
   "id": "83352d32",
   "metadata": {
    "execution": {
     "iopub.execute_input": "2024-02-09T18:40:43.053233Z",
     "iopub.status.busy": "2024-02-09T18:40:43.052649Z",
     "iopub.status.idle": "2024-02-09T18:40:43.395116Z",
     "shell.execute_reply": "2024-02-09T18:40:43.394334Z"
    },
    "papermill": {
     "duration": 0.357506,
     "end_time": "2024-02-09T18:40:43.397363",
     "exception": false,
     "start_time": "2024-02-09T18:40:43.039857",
     "status": "completed"
    },
    "tags": []
   },
   "outputs": [],
   "source": [
    "image_files = os.listdir(file_dir)\n"
   ]
  },
  {
   "cell_type": "code",
   "execution_count": 5,
   "id": "56e8e23e",
   "metadata": {
    "execution": {
     "iopub.execute_input": "2024-02-09T18:40:43.423139Z",
     "iopub.status.busy": "2024-02-09T18:40:43.422491Z",
     "iopub.status.idle": "2024-02-09T18:42:40.645776Z",
     "shell.execute_reply": "2024-02-09T18:42:40.644819Z"
    },
    "papermill": {
     "duration": 117.238883,
     "end_time": "2024-02-09T18:42:40.648284",
     "exception": false,
     "start_time": "2024-02-09T18:40:43.409401",
     "status": "completed"
    },
    "tags": []
   },
   "outputs": [],
   "source": [
    "images = list()\n",
    "ages = list()\n",
    "genders = list()\n",
    "for file in image_files:\n",
    "    ages.append(int(file.split('_')[0]))\n",
    "    genders.append(int(file.split('_')[1]))\n",
    "    image_path = os.path.join(file_dir,file)\n",
    "    image = cv.imread(image_path)\n",
    "    image_colored = cv.cvtColor(image,cv.COLOR_BGR2RGB)\n",
    "    image_resized = cv.resize(image_colored,(48,48))\n",
    "    images.append(image_resized)"
   ]
  },
  {
   "cell_type": "code",
   "execution_count": 6,
   "id": "cc7900f2",
   "metadata": {
    "execution": {
     "iopub.execute_input": "2024-02-09T18:42:40.675490Z",
     "iopub.status.busy": "2024-02-09T18:42:40.674959Z",
     "iopub.status.idle": "2024-02-09T18:42:40.749928Z",
     "shell.execute_reply": "2024-02-09T18:42:40.749102Z"
    },
    "papermill": {
     "duration": 0.090916,
     "end_time": "2024-02-09T18:42:40.752354",
     "exception": false,
     "start_time": "2024-02-09T18:42:40.661438",
     "status": "completed"
    },
    "tags": []
   },
   "outputs": [],
   "source": [
    "images_np = np.array(images)\n",
    "ages_np = np.array(ages)\n",
    "genders_np = np.array(genders)"
   ]
  },
  {
   "cell_type": "code",
   "execution_count": 7,
   "id": "112a1cad",
   "metadata": {
    "execution": {
     "iopub.execute_input": "2024-02-09T18:42:40.778106Z",
     "iopub.status.busy": "2024-02-09T18:42:40.777815Z",
     "iopub.status.idle": "2024-02-09T18:42:40.901015Z",
     "shell.execute_reply": "2024-02-09T18:42:40.900212Z"
    },
    "papermill": {
     "duration": 0.138446,
     "end_time": "2024-02-09T18:42:40.903345",
     "exception": false,
     "start_time": "2024-02-09T18:42:40.764899",
     "status": "completed"
    },
    "tags": []
   },
   "outputs": [
    {
     "ename": "FileNotFoundError",
     "evalue": "[Errno 2] No such file or directory: '/kaggle/working/images.npy'",
     "output_type": "error",
     "traceback": [
      "\u001b[0;31m---------------------------------------------------------------------------\u001b[0m",
      "\u001b[0;31mFileNotFoundError\u001b[0m                         Traceback (most recent call last)",
      "Cell \u001b[0;32mIn[7], line 1\u001b[0m\n\u001b[0;32m----> 1\u001b[0m \u001b[43mnp\u001b[49m\u001b[38;5;241;43m.\u001b[39;49m\u001b[43msave\u001b[49m\u001b[43m(\u001b[49m\u001b[38;5;124;43m'\u001b[39;49m\u001b[38;5;124;43m/kaggle/working/images.npy\u001b[39;49m\u001b[38;5;124;43m'\u001b[39;49m\u001b[43m,\u001b[49m\u001b[43m \u001b[49m\u001b[43mimages_np\u001b[49m\u001b[43m)\u001b[49m\n\u001b[1;32m      2\u001b[0m np\u001b[38;5;241m.\u001b[39msave(\u001b[38;5;124m'\u001b[39m\u001b[38;5;124m/kaggle/working/ages.npy\u001b[39m\u001b[38;5;124m'\u001b[39m, ages_np)\n\u001b[1;32m      3\u001b[0m np\u001b[38;5;241m.\u001b[39msave(\u001b[38;5;124m'\u001b[39m\u001b[38;5;124m/kaggle/working/genders.npy\u001b[39m\u001b[38;5;124m'\u001b[39m, genders_np)\n",
      "File \u001b[0;32m<__array_function__ internals>:200\u001b[0m, in \u001b[0;36msave\u001b[0;34m(*args, **kwargs)\u001b[0m\n",
      "File \u001b[0;32m~/anaconda3/lib/python3.11/site-packages/numpy/lib/npyio.py:518\u001b[0m, in \u001b[0;36msave\u001b[0;34m(file, arr, allow_pickle, fix_imports)\u001b[0m\n\u001b[1;32m    516\u001b[0m     \u001b[38;5;28;01mif\u001b[39;00m \u001b[38;5;129;01mnot\u001b[39;00m file\u001b[38;5;241m.\u001b[39mendswith(\u001b[38;5;124m'\u001b[39m\u001b[38;5;124m.npy\u001b[39m\u001b[38;5;124m'\u001b[39m):\n\u001b[1;32m    517\u001b[0m         file \u001b[38;5;241m=\u001b[39m file \u001b[38;5;241m+\u001b[39m \u001b[38;5;124m'\u001b[39m\u001b[38;5;124m.npy\u001b[39m\u001b[38;5;124m'\u001b[39m\n\u001b[0;32m--> 518\u001b[0m     file_ctx \u001b[38;5;241m=\u001b[39m \u001b[38;5;28;43mopen\u001b[39;49m\u001b[43m(\u001b[49m\u001b[43mfile\u001b[49m\u001b[43m,\u001b[49m\u001b[43m \u001b[49m\u001b[38;5;124;43m\"\u001b[39;49m\u001b[38;5;124;43mwb\u001b[39;49m\u001b[38;5;124;43m\"\u001b[39;49m\u001b[43m)\u001b[49m\n\u001b[1;32m    520\u001b[0m \u001b[38;5;28;01mwith\u001b[39;00m file_ctx \u001b[38;5;28;01mas\u001b[39;00m fid:\n\u001b[1;32m    521\u001b[0m     arr \u001b[38;5;241m=\u001b[39m np\u001b[38;5;241m.\u001b[39masanyarray(arr)\n",
      "\u001b[0;31mFileNotFoundError\u001b[0m: [Errno 2] No such file or directory: '/kaggle/working/images.npy'"
     ]
    }
   ],
   "source": [
    "np.save('/kaggle/working/images.npy', images_np)\n",
    "np.save('/kaggle/working/ages.npy', ages_np)\n",
    "np.save('/kaggle/working/genders.npy', genders_np)"
   ]
  },
  {
   "cell_type": "code",
   "execution_count": null,
   "id": "22e55efc",
   "metadata": {
    "execution": {
     "iopub.execute_input": "2024-02-09T18:42:40.928664Z",
     "iopub.status.busy": "2024-02-09T18:42:40.928030Z",
     "iopub.status.idle": "2024-02-09T18:42:41.135839Z",
     "shell.execute_reply": "2024-02-09T18:42:41.135019Z"
    },
    "papermill": {
     "duration": 0.222063,
     "end_time": "2024-02-09T18:42:41.137726",
     "exception": false,
     "start_time": "2024-02-09T18:42:40.915663",
     "status": "completed"
    },
    "tags": []
   },
   "outputs": [
    {
     "data": {
      "text/plain": [
       "<matplotlib.image.AxesImage at 0x7fa46cecb4f0>"
      ]
     },
     "execution_count": 9,
     "metadata": {},
     "output_type": "execute_result"
    },
    {
     "data": {
      "image/png": "[encoded data removed]",
      "text/plain": [
       "<Figure size 640x480 with 1 Axes>"
      ]
     },
     "metadata": {},
     "output_type": "display_data"
    }
   ],
   "source": [
    "plt.imshow(images[22000])"
   ]
  },
  {
   "cell_type": "code",
   "execution_count": null,
   "id": "5813ab00",
   "metadata": {
    "execution": {
     "iopub.execute_input": "2024-02-09T18:42:41.163539Z",
     "iopub.status.busy": "2024-02-09T18:42:41.163215Z",
     "iopub.status.idle": "2024-02-09T18:42:41.170141Z",
     "shell.execute_reply": "2024-02-09T18:42:41.169430Z"
    },
    "papermill": {
     "duration": 0.021951,
     "end_time": "2024-02-09T18:42:41.172029",
     "exception": false,
     "start_time": "2024-02-09T18:42:41.150078",
     "status": "completed"
    },
    "tags": []
   },
   "outputs": [],
   "source": [
    "genders_unique,genders_count = np.unique(genders_np,return_counts=True)"
   ]
  },
  {
   "cell_type": "code",
   "execution_count": null,
   "id": "297a6682",
   "metadata": {
    "execution": {
     "iopub.execute_input": "2024-02-09T18:42:41.197780Z",
     "iopub.status.busy": "2024-02-09T18:42:41.197510Z",
     "iopub.status.idle": "2024-02-09T18:42:41.327199Z",
     "shell.execute_reply": "2024-02-09T18:42:41.326340Z"
    },
    "papermill": {
     "duration": 0.144818,
     "end_time": "2024-02-09T18:42:41.329350",
     "exception": false,
     "start_time": "2024-02-09T18:42:41.184532",
     "status": "completed"
    },
    "tags": []
   },
   "outputs": [
    {
     "data": {
      "image/png": "[encoded data removed]",
      "text/plain": [
       "<Figure size 640x480 with 1 Axes>"
      ]
     },
     "metadata": {},
     "output_type": "display_data"
    }
   ],
   "source": [
    "fig = plt.figure()\n",
    "axes = fig.add_axes([0,0,1,1])\n",
    "genders = ['Male', 'Female']\n",
    "values = [12391, 11317]\n",
    "axes.bar(genders,values)\n",
    "plt.show()\n"
   ]
  },
  {
   "cell_type": "code",
   "execution_count": null,
   "id": "4e662967",
   "metadata": {
    "execution": {
     "iopub.execute_input": "2024-02-09T18:42:41.356301Z",
     "iopub.status.busy": "2024-02-09T18:42:41.355996Z",
     "iopub.status.idle": "2024-02-09T18:42:41.362999Z",
     "shell.execute_reply": "2024-02-09T18:42:41.362091Z"
    },
    "papermill": {
     "duration": 0.022599,
     "end_time": "2024-02-09T18:42:41.365034",
     "exception": false,
     "start_time": "2024-02-09T18:42:41.342435",
     "status": "completed"
    },
    "tags": []
   },
   "outputs": [],
   "source": [
    "ages_unique,ages_count = np.unique(ages,return_counts=True)"
   ]
  },
  {
   "cell_type": "code",
   "execution_count": null,
   "id": "bc256bf3",
   "metadata": {
    "execution": {
     "iopub.execute_input": "2024-02-09T18:42:41.392240Z",
     "iopub.status.busy": "2024-02-09T18:42:41.391976Z",
     "iopub.status.idle": "2024-02-09T18:42:41.396165Z",
     "shell.execute_reply": "2024-02-09T18:42:41.395339Z"
    },
    "papermill": {
     "duration": 0.019631,
     "end_time": "2024-02-09T18:42:41.398352",
     "exception": false,
     "start_time": "2024-02-09T18:42:41.378721",
     "status": "completed"
    },
    "tags": []
   },
   "outputs": [],
   "source": [
    "ages_unique_li = list(ages_unique)\n",
    "ages_count = list(ages_count)"
   ]
  },
  {
   "cell_type": "code",
   "execution_count": null,
   "id": "54653817",
   "metadata": {
    "execution": {
     "iopub.execute_input": "2024-02-09T18:42:41.425921Z",
     "iopub.status.busy": "2024-02-09T18:42:41.425662Z",
     "iopub.status.idle": "2024-02-09T18:42:41.590704Z",
     "shell.execute_reply": "2024-02-09T18:42:41.589773Z"
    },
    "papermill": {
     "duration": 0.180996,
     "end_time": "2024-02-09T18:42:41.592788",
     "exception": false,
     "start_time": "2024-02-09T18:42:41.411792",
     "status": "completed"
    },
    "tags": []
   },
   "outputs": [
    {
     "data": {
      "image/png": "[encoded data removed]",
      "text/plain": [
       "<Figure size 640x480 with 1 Axes>"
      ]
     },
     "metadata": {},
     "output_type": "display_data"
    }
   ],
   "source": [
    "plt.plot(ages_count)\n",
    "plt.xlabel('Age')\n",
    "plt.ylabel('Counts')\n",
    "plt.show()"
   ]
  },
  {
   "cell_type": "code",
   "execution_count": null,
   "id": "fe610f4a",
   "metadata": {
    "execution": {
     "iopub.execute_input": "2024-02-09T18:42:41.622009Z",
     "iopub.status.busy": "2024-02-09T18:42:41.621724Z",
     "iopub.status.idle": "2024-02-09T18:42:41.627465Z",
     "shell.execute_reply": "2024-02-09T18:42:41.626564Z"
    },
    "papermill": {
     "duration": 0.023021,
     "end_time": "2024-02-09T18:42:41.629653",
     "exception": false,
     "start_time": "2024-02-09T18:42:41.606632",
     "status": "completed"
    },
    "tags": []
   },
   "outputs": [
    {
     "data": {
      "text/plain": [
       "(23708, 48, 48, 3)"
      ]
     },
     "execution_count": 15,
     "metadata": {},
     "output_type": "execute_result"
    }
   ],
   "source": [
    "images_np.shape"
   ]
  },
  {
   "cell_type": "code",
   "execution_count": null,
   "id": "98cd819b",
   "metadata": {
    "execution": {
     "iopub.execute_input": "2024-02-09T18:42:41.656677Z",
     "iopub.status.busy": "2024-02-09T18:42:41.656403Z",
     "iopub.status.idle": "2024-02-09T18:42:42.059353Z",
     "shell.execute_reply": "2024-02-09T18:42:42.058454Z"
    },
    "papermill": {
     "duration": 0.419133,
     "end_time": "2024-02-09T18:42:42.061827",
     "exception": false,
     "start_time": "2024-02-09T18:42:41.642694",
     "status": "completed"
    },
    "tags": []
   },
   "outputs": [],
   "source": [
    "images_np_1 = images_np/255 \n"
   ]
  },
  {
   "cell_type": "code",
   "execution_count": null,
   "id": "327a9ee3",
   "metadata": {
    "execution": {
     "iopub.execute_input": "2024-02-09T18:42:42.089948Z",
     "iopub.status.busy": "2024-02-09T18:42:42.089645Z",
     "iopub.status.idle": "2024-02-09T18:42:42.095176Z",
     "shell.execute_reply": "2024-02-09T18:42:42.094360Z"
    },
    "papermill": {
     "duration": 0.021961,
     "end_time": "2024-02-09T18:42:42.097222",
     "exception": false,
     "start_time": "2024-02-09T18:42:42.075261",
     "status": "completed"
    },
    "tags": []
   },
   "outputs": [
    {
     "data": {
      "text/plain": [
       "(23708, 48, 48, 3)"
      ]
     },
     "execution_count": 17,
     "metadata": {},
     "output_type": "execute_result"
    }
   ],
   "source": [
    "images_np_1.shape"
   ]
  },
  {
   "cell_type": "code",
   "execution_count": null,
   "id": "0ea24d5c",
   "metadata": {
    "execution": {
     "iopub.execute_input": "2024-02-09T18:42:42.125014Z",
     "iopub.status.busy": "2024-02-09T18:42:42.124752Z",
     "iopub.status.idle": "2024-02-09T18:42:42.133379Z",
     "shell.execute_reply": "2024-02-09T18:42:42.132587Z"
    },
    "papermill": {
     "duration": 0.025014,
     "end_time": "2024-02-09T18:42:42.135277",
     "exception": false,
     "start_time": "2024-02-09T18:42:42.110263",
     "status": "completed"
    },
    "tags": []
   },
   "outputs": [],
   "source": [
    "genders_li = list(genders_np)\n",
    "ages_li  = list(ages_np)"
   ]
  },
  {
   "cell_type": "code",
   "execution_count": null,
   "id": "e449245d",
   "metadata": {
    "execution": {
     "iopub.execute_input": "2024-02-09T18:42:42.162501Z",
     "iopub.status.busy": "2024-02-09T18:42:42.162243Z",
     "iopub.status.idle": "2024-02-09T18:42:42.184426Z",
     "shell.execute_reply": "2024-02-09T18:42:42.183744Z"
    },
    "papermill": {
     "duration": 0.037807,
     "end_time": "2024-02-09T18:42:42.186387",
     "exception": false,
     "start_time": "2024-02-09T18:42:42.148580",
     "status": "completed"
    },
    "tags": []
   },
   "outputs": [],
   "source": [
    "labels = list()\n",
    "for i in range(len(ages)):\n",
    "    label = list()\n",
    "    label.append(ages_li[i])\n",
    "    label.append(genders_li[i])\n",
    "    labels.append(label)\n"
   ]
  },
  {
   "cell_type": "code",
   "execution_count": null,
   "id": "6ec8d68d",
   "metadata": {
    "execution": {
     "iopub.execute_input": "2024-02-09T18:42:42.213910Z",
     "iopub.status.busy": "2024-02-09T18:42:42.213643Z",
     "iopub.status.idle": "2024-02-09T18:42:42.230527Z",
     "shell.execute_reply": "2024-02-09T18:42:42.229822Z"
    },
    "papermill": {
     "duration": 0.03297,
     "end_time": "2024-02-09T18:42:42.232309",
     "exception": false,
     "start_time": "2024-02-09T18:42:42.199339",
     "status": "completed"
    },
    "tags": []
   },
   "outputs": [],
   "source": [
    "labels_np = np.array(labels)"
   ]
  },
  {
   "cell_type": "code",
   "execution_count": null,
   "id": "a8c9266c",
   "metadata": {
    "execution": {
     "iopub.execute_input": "2024-02-09T18:42:42.259479Z",
     "iopub.status.busy": "2024-02-09T18:42:42.259199Z",
     "iopub.status.idle": "2024-02-09T18:42:42.262882Z",
     "shell.execute_reply": "2024-02-09T18:42:42.262081Z"
    },
    "papermill": {
     "duration": 0.019492,
     "end_time": "2024-02-09T18:42:42.264735",
     "exception": false,
     "start_time": "2024-02-09T18:42:42.245243",
     "status": "completed"
    },
    "tags": []
   },
   "outputs": [],
   "source": [
    "from sklearn.model_selection import train_test_split"
   ]
  },
  {
   "cell_type": "code",
   "execution_count": null,
   "id": "913d8ae4",
   "metadata": {
    "execution": {
     "iopub.execute_input": "2024-02-09T18:42:42.291310Z",
     "iopub.status.busy": "2024-02-09T18:42:42.291039Z",
     "iopub.status.idle": "2024-02-09T18:42:42.671757Z",
     "shell.execute_reply": "2024-02-09T18:42:42.670907Z"
    },
    "papermill": {
     "duration": 0.396721,
     "end_time": "2024-02-09T18:42:42.674245",
     "exception": false,
     "start_time": "2024-02-09T18:42:42.277524",
     "status": "completed"
    },
    "tags": []
   },
   "outputs": [],
   "source": [
    "x_train,x_test,y_train,y_test = train_test_split(images_np_1,labels_np,test_size=0.25,random_state=42)"
   ]
  },
  {
   "cell_type": "code",
   "execution_count": null,
   "id": "0ac12b29",
   "metadata": {
    "execution": {
     "iopub.execute_input": "2024-02-09T18:42:42.744697Z",
     "iopub.status.busy": "2024-02-09T18:42:42.743851Z",
     "iopub.status.idle": "2024-02-09T18:42:42.748356Z",
     "shell.execute_reply": "2024-02-09T18:42:42.747453Z"
    },
    "papermill": {
     "duration": 0.062489,
     "end_time": "2024-02-09T18:42:42.750267",
     "exception": false,
     "start_time": "2024-02-09T18:42:42.687778",
     "status": "completed"
    },
    "tags": []
   },
   "outputs": [],
   "source": [
    "y_train_1 = [y_train[:,1],y_train[:,0]]"
   ]
  },
  {
   "cell_type": "code",
   "execution_count": null,
   "id": "339d0226",
   "metadata": {
    "execution": {
     "iopub.execute_input": "2024-02-09T18:42:42.777511Z",
     "iopub.status.busy": "2024-02-09T18:42:42.777224Z",
     "iopub.status.idle": "2024-02-09T18:42:42.781288Z",
     "shell.execute_reply": "2024-02-09T18:42:42.780487Z"
    },
    "papermill": {
     "duration": 0.019883,
     "end_time": "2024-02-09T18:42:42.783153",
     "exception": false,
     "start_time": "2024-02-09T18:42:42.763270",
     "status": "completed"
    },
    "tags": []
   },
   "outputs": [],
   "source": [
    "y_test_1 = [y_test[:,1],y_test[:,0]]"
   ]
  },
  {
   "cell_type": "code",
   "execution_count": null,
   "id": "fb63a653",
   "metadata": {
    "execution": {
     "iopub.execute_input": "2024-02-09T18:42:42.811315Z",
     "iopub.status.busy": "2024-02-09T18:42:42.810554Z",
     "iopub.status.idle": "2024-02-09T18:42:42.815869Z",
     "shell.execute_reply": "2024-02-09T18:42:42.815054Z"
    },
    "papermill": {
     "duration": 0.020771,
     "end_time": "2024-02-09T18:42:42.817786",
     "exception": false,
     "start_time": "2024-02-09T18:42:42.797015",
     "status": "completed"
    },
    "tags": []
   },
   "outputs": [],
   "source": [
    "def convolution(input_tensor,filters):\n",
    "    x = Conv2D(filters=filters,kernel_size=(3,3),padding='same',strides=(1,1),kernel_regularizer=l2(0.001))(input_tensor) \n",
    "    x = Dropout(0.1)(x)\n",
    "    x = Activation('relu')(x)\n",
    "    return x"
   ]
  },
  {
   "cell_type": "code",
   "execution_count": null,
   "id": "ca098da4",
   "metadata": {
    "execution": {
     "iopub.execute_input": "2024-02-09T18:42:42.844279Z",
     "iopub.status.busy": "2024-02-09T18:42:42.844041Z",
     "iopub.status.idle": "2024-02-09T18:42:42.853111Z",
     "shell.execute_reply": "2024-02-09T18:42:42.852332Z"
    },
    "papermill": {
     "duration": 0.024549,
     "end_time": "2024-02-09T18:42:42.855012",
     "exception": false,
     "start_time": "2024-02-09T18:42:42.830463",
     "status": "completed"
    },
    "tags": []
   },
   "outputs": [],
   "source": [
    "def model(input_shape):\n",
    "    inputs = Input((input_shape))\n",
    "    conv_1 = convolution(inputs,32)\n",
    "    maxp_1 = MaxPooling2D(pool_size=(2,2))(conv_1)\n",
    "    conv_2 = convolution(maxp_1,64)\n",
    "    maxp_2 = MaxPooling2D(pool_size=(2,2))(conv_2)\n",
    "    conv_3 = convolution(maxp_2,128)\n",
    "    maxp_3 = MaxPooling2D(pool_size=(2,2))(conv_3)\n",
    "    conv_4 = convolution(maxp_3,256)\n",
    "    maxp_4 = MaxPooling2D(pool_size=(2,2))(conv_4)\n",
    "    conv_5 = convolution(maxp_4,324)\n",
    "    maxp_5 = MaxPooling2D(pool_size=(2,2))(conv_5)\n",
    "    flatten = Flatten()(maxp_5)\n",
    "    flatten = Flatten()(maxp_5)\n",
    "    dense_1 = Dense(64,activation='relu')(flatten)\n",
    "    dense_2 = Dense(64,activation='relu')(flatten)\n",
    "    drop_1 = Dropout(0.2)(dense_1)\n",
    "    drop_2  = Dropout(0.2)(dense_2)\n",
    "    output_1 = Dense(1,activation='sigmoid',name='gender_out')(drop_1)\n",
    "    output_2 = Dense(1,activation='relu',name='age_out')(drop_2)\n",
    "    model = Model(inputs=[inputs],outputs=[output_1,output_2])\n",
    "    model.compile(loss=['binary_crossentropy','mae'],optimizer='Adam',metrics=['accuracy'])\n",
    "    return model\n"
   ]
  },
  {
   "cell_type": "code",
   "execution_count": null,
   "id": "f9d2daff",
   "metadata": {
    "execution": {
     "iopub.execute_input": "2024-02-09T18:42:42.882142Z",
     "iopub.status.busy": "2024-02-09T18:42:42.881864Z",
     "iopub.status.idle": "2024-02-09T18:42:44.001041Z",
     "shell.execute_reply": "2024-02-09T18:42:44.000061Z"
    },
    "papermill": {
     "duration": 1.14884,
     "end_time": "2024-02-09T18:42:44.017053",
     "exception": false,
     "start_time": "2024-02-09T18:42:42.868213",
     "status": "completed"
    },
    "tags": []
   },
   "outputs": [
    {
     "name": "stdout",
     "output_type": "stream",
     "text": [
      "Model: \"model\"\n",
      "__________________________________________________________________________________________________\n",
      " Layer (type)                Output Shape                 Param #   Connected to                  \n",
      "==================================================================================================\n",
      " input_1 (InputLayer)        [(None, 48, 48, 3)]          0         []                            \n",
      "                                                                                                  \n",
      " conv2d (Conv2D)             (None, 48, 48, 32)           896       ['input_1[0][0]']             \n",
      "                                                                                                  \n",
      " dropout (Dropout)           (None, 48, 48, 32)           0         ['conv2d[0][0]']              \n",
      "                                                                                                  \n",
      " activation (Activation)     (None, 48, 48, 32)           0         ['dropout[0][0]']             \n",
      "                                                                                                  \n",
      " max_pooling2d (MaxPooling2  (None, 24, 24, 32)           0         ['activation[0][0]']          \n",
      " D)                                                                                               \n",
      "                                                                                                  \n",
      " conv2d_1 (Conv2D)           (None, 24, 24, 64)           18496     ['max_pooling2d[0][0]']       \n",
      "                                                                                                  \n",
      " dropout_1 (Dropout)         (None, 24, 24, 64)           0         ['conv2d_1[0][0]']            \n",
      "                                                                                                  \n",
      " activation_1 (Activation)   (None, 24, 24, 64)           0         ['dropout_1[0][0]']           \n",
      "                                                                                                  \n",
      " max_pooling2d_1 (MaxPoolin  (None, 12, 12, 64)           0         ['activation_1[0][0]']        \n",
      " g2D)                                                                                             \n",
      "                                                                                                  \n",
      " conv2d_2 (Conv2D)           (None, 12, 12, 128)          73856     ['max_pooling2d_1[0][0]']     \n",
      "                                                                                                  \n",
      " dropout_2 (Dropout)         (None, 12, 12, 128)          0         ['conv2d_2[0][0]']            \n",
      "                                                                                                  \n",
      " activation_2 (Activation)   (None, 12, 12, 128)          0         ['dropout_2[0][0]']           \n",
      "                                                                                                  \n",
      " max_pooling2d_2 (MaxPoolin  (None, 6, 6, 128)            0         ['activation_2[0][0]']        \n",
      " g2D)                                                                                             \n",
      "                                                                                                  \n",
      " conv2d_3 (Conv2D)           (None, 6, 6, 256)            295168    ['max_pooling2d_2[0][0]']     \n",
      "                                                                                                  \n",
      " dropout_3 (Dropout)         (None, 6, 6, 256)            0         ['conv2d_3[0][0]']            \n",
      "                                                                                                  \n",
      " activation_3 (Activation)   (None, 6, 6, 256)            0         ['dropout_3[0][0]']           \n",
      "                                                                                                  \n",
      " max_pooling2d_3 (MaxPoolin  (None, 3, 3, 256)            0         ['activation_3[0][0]']        \n",
      " g2D)                                                                                             \n",
      "                                                                                                  \n",
      " conv2d_4 (Conv2D)           (None, 3, 3, 324)            746820    ['max_pooling2d_3[0][0]']     \n",
      "                                                                                                  \n",
      " dropout_4 (Dropout)         (None, 3, 3, 324)            0         ['conv2d_4[0][0]']            \n",
      "                                                                                                  \n",
      " activation_4 (Activation)   (None, 3, 3, 324)            0         ['dropout_4[0][0]']           \n",
      "                                                                                                  \n",
      " max_pooling2d_4 (MaxPoolin  (None, 1, 1, 324)            0         ['activation_4[0][0]']        \n",
      " g2D)                                                                                             \n",
      "                                                                                                  \n",
      " flatten_1 (Flatten)         (None, 324)                  0         ['max_pooling2d_4[0][0]']     \n",
      "                                                                                                  \n",
      " dense (Dense)               (None, 64)                   20800     ['flatten_1[0][0]']           \n",
      "                                                                                                  \n",
      " dense_1 (Dense)             (None, 64)                   20800     ['flatten_1[0][0]']           \n",
      "                                                                                                  \n",
      " dropout_5 (Dropout)         (None, 64)                   0         ['dense[0][0]']               \n",
      "                                                                                                  \n",
      " dropout_6 (Dropout)         (None, 64)                   0         ['dense_1[0][0]']             \n",
      "                                                                                                  \n",
      " gender_out (Dense)          (None, 1)                    65        ['dropout_5[0][0]']           \n",
      "                                                                                                  \n",
      " age_out (Dense)             (None, 1)                    65        ['dropout_6[0][0]']           \n",
      "                                                                                                  \n",
      "==================================================================================================\n",
      "Total params: 1176966 (4.49 MB)\n",
      "Trainable params: 1176966 (4.49 MB)\n",
      "Non-trainable params: 0 (0.00 Byte)\n",
      "__________________________________________________________________________________________________\n"
     ]
    }
   ],
   "source": [
    "Model = model((48,48,3))\n",
    "Model.summary()\n"
   ]
  },
  {
   "cell_type": "code",
   "execution_count": null,
   "id": "913bd250",
   "metadata": {
    "execution": {
     "iopub.execute_input": "2024-02-09T18:42:44.054950Z",
     "iopub.status.busy": "2024-02-09T18:42:44.054648Z",
     "iopub.status.idle": "2024-02-09T18:42:44.058649Z",
     "shell.execute_reply": "2024-02-09T18:42:44.057838Z"
    },
    "papermill": {
     "duration": 0.024938,
     "end_time": "2024-02-09T18:42:44.060525",
     "exception": false,
     "start_time": "2024-02-09T18:42:44.035587",
     "status": "completed"
    },
    "tags": []
   },
   "outputs": [],
   "source": [
    "from tensorflow.keras.callbacks import ModelCheckpoint"
   ]
  },
  {
   "cell_type": "code",
   "execution_count": null,
   "id": "326c2234",
   "metadata": {
    "execution": {
     "iopub.execute_input": "2024-02-09T18:42:44.098651Z",
     "iopub.status.busy": "2024-02-09T18:42:44.098184Z",
     "iopub.status.idle": "2024-02-09T18:42:44.103217Z",
     "shell.execute_reply": "2024-02-09T18:42:44.102366Z"
    },
    "papermill": {
     "duration": 0.026296,
     "end_time": "2024-02-09T18:42:44.105052",
     "exception": false,
     "start_time": "2024-02-09T18:42:44.078756",
     "status": "completed"
    },
    "tags": []
   },
   "outputs": [],
   "source": [
    "file_save = 'Age_N_Gender_Detector.h5'\n",
    "checkpoint = ModelCheckpoint(file_save,monitor='val_loss',save_best_only=True,save_weights_only=False,mode='auto',save_freq='epoch',verbose=1)\n",
    "early_stopping = tf.keras.callbacks.EarlyStopping(patience=25,monitor='val_loss',restore_best_weights='True')\n",
    "callbacks_list = [checkpoint,early_stopping]\n"
   ]
  },
  {
   "cell_type": "code",
   "execution_count": null,
   "id": "61324583",
   "metadata": {
    "execution": {
     "iopub.execute_input": "2024-02-09T18:42:44.142990Z",
     "iopub.status.busy": "2024-02-09T18:42:44.142333Z",
     "iopub.status.idle": "2024-02-09T18:46:18.502516Z",
     "shell.execute_reply": "2024-02-09T18:46:18.501665Z"
    },
    "papermill": {
     "duration": 214.381395,
     "end_time": "2024-02-09T18:46:18.504423",
     "exception": false,
     "start_time": "2024-02-09T18:42:44.123028",
     "status": "completed"
    },
    "tags": []
   },
   "outputs": [
    {
     "name": "stdout",
     "output_type": "stream",
     "text": [
      "Epoch 1/50\n"
     ]
    },
    {
     "name": "stderr",
     "output_type": "stream",
     "text": [
      "2024-02-09 18:42:47.440661: E tensorflow/core/grappler/optimizers/meta_optimizer.cc:961] layout failed: INVALID_ARGUMENT: Size of values 0 does not match size of permutation 4 @ fanin shape inmodel/dropout/dropout/SelectV2-2-TransposeNHWCToNCHW-LayoutOptimizer\n",
      "WARNING: All log messages before absl::InitializeLog() is called are written to STDERR\n",
      "I0000 00:00:1707504171.371524      71 device_compiler.h:186] Compiled cluster using XLA!  This line is logged at most once for the lifetime of the process.\n"
     ]
    },
    {
     "name": "stdout",
     "output_type": "stream",
     "text": [
      "278/278 [==============================] - ETA: 0s - loss: 16.9447 - gender_out_loss: 0.7058 - age_out_loss: 15.9510 - gender_out_accuracy: 0.5165 - age_out_accuracy: 0.0473\n",
      "Epoch 1: val_loss improved from inf to 14.79483, saving model to Age_N_Gender_Detector.h5\n",
      "278/278 [==============================] - 14s 23ms/step - loss: 16.9447 - gender_out_loss: 0.7058 - age_out_loss: 15.9510 - gender_out_accuracy: 0.5165 - age_out_accuracy: 0.0473 - val_loss: 14.7948 - val_gender_out_loss: 0.6781 - val_age_out_loss: 13.8698 - val_gender_out_accuracy: 0.5379 - val_age_out_accuracy: 0.0471\n",
      "Epoch 2/50\n",
      "277/278 [============================>.] - ETA: 0s - loss: 12.9645 - gender_out_loss: 0.6374 - age_out_loss: 12.0426 - gender_out_accuracy: 0.6388 - age_out_accuracy: 0.0464\n",
      "Epoch 2: val_loss improved from 14.79483 to 13.00720, saving model to Age_N_Gender_Detector.h5\n",
      "278/278 [==============================] - 4s 15ms/step - loss: 12.9532 - gender_out_loss: 0.6372 - age_out_loss: 12.0313 - gender_out_accuracy: 0.6392 - age_out_accuracy: 0.0465 - val_loss: 13.0072 - val_gender_out_loss: 0.6144 - val_age_out_loss: 12.0797 - val_gender_out_accuracy: 0.6685 - val_age_out_accuracy: 0.0471\n",
      "Epoch 3/50\n",
      "277/278 [============================>.] - ETA: 0s - loss: 11.1690 - gender_out_loss: 0.5985 - age_out_loss: 10.2383 - gender_out_accuracy: 0.6855 - age_out_accuracy: 0.0433\n",
      "Epoch 3: val_loss did not improve from 13.00720\n",
      "278/278 [==============================] - 4s 14ms/step - loss: 11.1653 - gender_out_loss: 0.5984 - age_out_loss: 10.2348 - gender_out_accuracy: 0.6856 - age_out_accuracy: 0.0431 - val_loss: 13.2955 - val_gender_out_loss: 0.5598 - val_age_out_loss: 12.3887 - val_gender_out_accuracy: 0.7461 - val_age_out_accuracy: 0.0471\n",
      "Epoch 4/50\n",
      "277/278 [============================>.] - ETA: 0s - loss: 10.4063 - gender_out_loss: 0.5140 - age_out_loss: 9.5296 - gender_out_accuracy: 0.7500 - age_out_accuracy: 0.0445\n",
      "Epoch 4: val_loss did not improve from 13.00720\n",
      "278/278 [==============================] - 4s 14ms/step - loss: 10.4038 - gender_out_loss: 0.5136 - age_out_loss: 9.5276 - gender_out_accuracy: 0.7502 - age_out_accuracy: 0.0447 - val_loss: 14.3334 - val_gender_out_loss: 0.4809 - val_age_out_loss: 13.4770 - val_gender_out_accuracy: 0.7746 - val_age_out_accuracy: 0.0471\n",
      "Epoch 5/50\n",
      "278/278 [==============================] - ETA: 0s - loss: 9.8910 - gender_out_loss: 0.4538 - age_out_loss: 9.0468 - gender_out_accuracy: 0.7872 - age_out_accuracy: 0.0450\n",
      "Epoch 5: val_loss improved from 13.00720 to 11.47710, saving model to Age_N_Gender_Detector.h5\n",
      "278/278 [==============================] - 4s 15ms/step - loss: 9.8910 - gender_out_loss: 0.4538 - age_out_loss: 9.0468 - gender_out_accuracy: 0.7872 - age_out_accuracy: 0.0450 - val_loss: 11.4771 - val_gender_out_loss: 0.4410 - val_age_out_loss: 10.6315 - val_gender_out_accuracy: 0.8320 - val_age_out_accuracy: 0.0471\n",
      "Epoch 6/50\n",
      "277/278 [============================>.] - ETA: 0s - loss: 9.4220 - gender_out_loss: 0.4014 - age_out_loss: 8.6052 - gender_out_accuracy: 0.8148 - age_out_accuracy: 0.0455\n",
      "Epoch 6: val_loss improved from 11.47710 to 10.06401, saving model to Age_N_Gender_Detector.h5\n",
      "278/278 [==============================] - 4s 15ms/step - loss: 9.4229 - gender_out_loss: 0.4014 - age_out_loss: 8.6061 - gender_out_accuracy: 0.8149 - age_out_accuracy: 0.0453 - val_loss: 10.0640 - val_gender_out_loss: 0.3678 - val_age_out_loss: 9.2700 - val_gender_out_accuracy: 0.8428 - val_age_out_accuracy: 0.0471\n",
      "Epoch 7/50\n",
      "277/278 [============================>.] - ETA: 0s - loss: 9.0832 - gender_out_loss: 0.3764 - age_out_loss: 8.2706 - gender_out_accuracy: 0.8306 - age_out_accuracy: 0.0459\n",
      "Epoch 7: val_loss improved from 10.06401 to 10.00187, saving model to Age_N_Gender_Detector.h5\n",
      "278/278 [==============================] - 4s 15ms/step - loss: 9.0862 - gender_out_loss: 0.3767 - age_out_loss: 8.2732 - gender_out_accuracy: 0.8305 - age_out_accuracy: 0.0459 - val_loss: 10.0019 - val_gender_out_loss: 0.3865 - val_age_out_loss: 9.1667 - val_gender_out_accuracy: 0.8159 - val_age_out_accuracy: 0.0471\n",
      "Epoch 8/50\n",
      "277/278 [============================>.] - ETA: 0s - loss: 8.8491 - gender_out_loss: 0.3591 - age_out_loss: 8.0296 - gender_out_accuracy: 0.8384 - age_out_accuracy: 0.0464\n",
      "Epoch 8: val_loss improved from 10.00187 to 8.89561, saving model to Age_N_Gender_Detector.h5\n",
      "278/278 [==============================] - 4s 15ms/step - loss: 8.8550 - gender_out_loss: 0.3590 - age_out_loss: 8.0356 - gender_out_accuracy: 0.8384 - age_out_accuracy: 0.0463 - val_loss: 8.8956 - val_gender_out_loss: 0.3325 - val_age_out_loss: 8.0935 - val_gender_out_accuracy: 0.8541 - val_age_out_accuracy: 0.0471\n",
      "Epoch 9/50\n",
      "277/278 [============================>.] - ETA: 0s - loss: 8.6042 - gender_out_loss: 0.3414 - age_out_loss: 7.7854 - gender_out_accuracy: 0.8483 - age_out_accuracy: 0.0460\n",
      "Epoch 9: val_loss did not improve from 8.89561\n",
      "278/278 [==============================] - 4s 15ms/step - loss: 8.6032 - gender_out_loss: 0.3417 - age_out_loss: 7.7841 - gender_out_accuracy: 0.8481 - age_out_accuracy: 0.0460 - val_loss: 10.5016 - val_gender_out_loss: 0.3229 - val_age_out_loss: 9.6932 - val_gender_out_accuracy: 0.8630 - val_age_out_accuracy: 0.0471\n",
      "Epoch 10/50\n",
      "277/278 [============================>.] - ETA: 0s - loss: 8.3579 - gender_out_loss: 0.3299 - age_out_loss: 7.5329 - gender_out_accuracy: 0.8520 - age_out_accuracy: 0.0465\n",
      "Epoch 10: val_loss did not improve from 8.89561\n",
      "278/278 [==============================] - 4s 15ms/step - loss: 8.3563 - gender_out_loss: 0.3304 - age_out_loss: 7.5308 - gender_out_accuracy: 0.8516 - age_out_accuracy: 0.0467 - val_loss: 10.5312 - val_gender_out_loss: 0.3109 - val_age_out_loss: 9.7179 - val_gender_out_accuracy: 0.8652 - val_age_out_accuracy: 0.0471\n",
      "Epoch 11/50\n",
      "277/278 [============================>.] - ETA: 0s - loss: 8.1520 - gender_out_loss: 0.3184 - age_out_loss: 7.3238 - gender_out_accuracy: 0.8579 - age_out_accuracy: 0.0467\n",
      "Epoch 11: val_loss did not improve from 8.89561\n",
      "278/278 [==============================] - 4s 14ms/step - loss: 8.1517 - gender_out_loss: 0.3185 - age_out_loss: 7.3233 - gender_out_accuracy: 0.8578 - age_out_accuracy: 0.0467 - val_loss: 10.6354 - val_gender_out_loss: 0.3000 - val_age_out_loss: 9.8191 - val_gender_out_accuracy: 0.8699 - val_age_out_accuracy: 0.0471\n",
      "Epoch 12/50\n",
      "277/278 [============================>.] - ETA: 0s - loss: 8.0564 - gender_out_loss: 0.3113 - age_out_loss: 7.2187 - gender_out_accuracy: 0.8607 - age_out_accuracy: 0.0458\n",
      "Epoch 12: val_loss improved from 8.89561 to 8.43865, saving model to Age_N_Gender_Detector.h5\n",
      "278/278 [==============================] - 4s 15ms/step - loss: 8.0623 - gender_out_loss: 0.3113 - age_out_loss: 7.2246 - gender_out_accuracy: 0.8608 - age_out_accuracy: 0.0457 - val_loss: 8.4386 - val_gender_out_loss: 0.2904 - val_age_out_loss: 7.6117 - val_gender_out_accuracy: 0.8704 - val_age_out_accuracy: 0.0471\n",
      "Epoch 13/50\n",
      "277/278 [============================>.] - ETA: 0s - loss: 7.8731 - gender_out_loss: 0.3077 - age_out_loss: 7.0228 - gender_out_accuracy: 0.8619 - age_out_accuracy: 0.0464\n",
      "Epoch 13: val_loss did not improve from 8.43865\n",
      "278/278 [==============================] - 4s 14ms/step - loss: 7.8744 - gender_out_loss: 0.3079 - age_out_loss: 7.0237 - gender_out_accuracy: 0.8617 - age_out_accuracy: 0.0463 - val_loss: 8.9722 - val_gender_out_loss: 0.3006 - val_age_out_loss: 8.1232 - val_gender_out_accuracy: 0.8625 - val_age_out_accuracy: 0.0471\n",
      "Epoch 14/50\n",
      "277/278 [============================>.] - ETA: 0s - loss: 7.9030 - gender_out_loss: 0.3046 - age_out_loss: 7.0418 - gender_out_accuracy: 0.8663 - age_out_accuracy: 0.0461\n",
      "Epoch 14: val_loss did not improve from 8.43865\n",
      "278/278 [==============================] - 4s 15ms/step - loss: 7.9028 - gender_out_loss: 0.3048 - age_out_loss: 7.0414 - gender_out_accuracy: 0.8662 - age_out_accuracy: 0.0461 - val_loss: 9.8187 - val_gender_out_loss: 0.3299 - val_age_out_loss: 8.9227 - val_gender_out_accuracy: 0.8606 - val_age_out_accuracy: 0.0471\n",
      "Epoch 15/50\n",
      "277/278 [============================>.] - ETA: 0s - loss: 7.6955 - gender_out_loss: 0.2975 - age_out_loss: 6.8254 - gender_out_accuracy: 0.8711 - age_out_accuracy: 0.0468\n",
      "Epoch 15: val_loss did not improve from 8.43865\n",
      "278/278 [==============================] - 4s 14ms/step - loss: 7.6941 - gender_out_loss: 0.2975 - age_out_loss: 6.8241 - gender_out_accuracy: 0.8710 - age_out_accuracy: 0.0467 - val_loss: 8.6351 - val_gender_out_loss: 0.2993 - val_age_out_loss: 7.7568 - val_gender_out_accuracy: 0.8686 - val_age_out_accuracy: 0.0464\n",
      "Epoch 16/50\n",
      "277/278 [============================>.] - ETA: 0s - loss: 7.7195 - gender_out_loss: 0.2918 - age_out_loss: 6.8385 - gender_out_accuracy: 0.8729 - age_out_accuracy: 0.0465\n",
      "Epoch 16: val_loss did not improve from 8.43865\n",
      "278/278 [==============================] - 4s 15ms/step - loss: 7.7211 - gender_out_loss: 0.2917 - age_out_loss: 6.8403 - gender_out_accuracy: 0.8728 - age_out_accuracy: 0.0465 - val_loss: 9.3631 - val_gender_out_loss: 0.2776 - val_age_out_loss: 8.4892 - val_gender_out_accuracy: 0.8800 - val_age_out_accuracy: 0.0471\n",
      "Epoch 17/50\n",
      "277/278 [============================>.] - ETA: 0s - loss: 7.4843 - gender_out_loss: 0.2883 - age_out_loss: 6.5939 - gender_out_accuracy: 0.8724 - age_out_accuracy: 0.0468\n",
      "Epoch 17: val_loss did not improve from 8.43865\n",
      "278/278 [==============================] - 4s 15ms/step - loss: 7.4832 - gender_out_loss: 0.2883 - age_out_loss: 6.5928 - gender_out_accuracy: 0.8724 - age_out_accuracy: 0.0468 - val_loss: 9.8739 - val_gender_out_loss: 0.2652 - val_age_out_loss: 9.0001 - val_gender_out_accuracy: 0.8816 - val_age_out_accuracy: 0.0471\n",
      "Epoch 18/50\n",
      "277/278 [============================>.] - ETA: 0s - loss: 7.4518 - gender_out_loss: 0.2812 - age_out_loss: 6.5551 - gender_out_accuracy: 0.8745 - age_out_accuracy: 0.0461\n",
      "Epoch 18: val_loss did not improve from 8.43865\n",
      "278/278 [==============================] - 4s 14ms/step - loss: 7.4506 - gender_out_loss: 0.2814 - age_out_loss: 6.5537 - gender_out_accuracy: 0.8744 - age_out_accuracy: 0.0462 - val_loss: 9.0245 - val_gender_out_loss: 0.2634 - val_age_out_loss: 8.1382 - val_gender_out_accuracy: 0.8794 - val_age_out_accuracy: 0.0471\n",
      "Epoch 19/50\n",
      "277/278 [============================>.] - ETA: 0s - loss: 7.4827 - gender_out_loss: 0.2901 - age_out_loss: 6.5625 - gender_out_accuracy: 0.8706 - age_out_accuracy: 0.0464\n",
      "Epoch 19: val_loss improved from 8.43865 to 8.39341, saving model to Age_N_Gender_Detector.h5\n",
      "278/278 [==============================] - 4s 15ms/step - loss: 7.4823 - gender_out_loss: 0.2897 - age_out_loss: 6.5626 - gender_out_accuracy: 0.8709 - age_out_accuracy: 0.0464 - val_loss: 8.3934 - val_gender_out_loss: 0.2819 - val_age_out_loss: 7.4755 - val_gender_out_accuracy: 0.8689 - val_age_out_accuracy: 0.0471\n",
      "Epoch 20/50\n",
      "277/278 [============================>.] - ETA: 0s - loss: 7.2992 - gender_out_loss: 0.2755 - age_out_loss: 6.3824 - gender_out_accuracy: 0.8780 - age_out_accuracy: 0.0462\n",
      "Epoch 20: val_loss did not improve from 8.39341\n",
      "278/278 [==============================] - 4s 15ms/step - loss: 7.2986 - gender_out_loss: 0.2753 - age_out_loss: 6.3821 - gender_out_accuracy: 0.8782 - age_out_accuracy: 0.0463 - val_loss: 8.6745 - val_gender_out_loss: 0.2653 - val_age_out_loss: 7.7632 - val_gender_out_accuracy: 0.8794 - val_age_out_accuracy: 0.0471\n",
      "Epoch 21/50\n",
      "277/278 [============================>.] - ETA: 0s - loss: 7.2839 - gender_out_loss: 0.2751 - age_out_loss: 6.3557 - gender_out_accuracy: 0.8794 - age_out_accuracy: 0.0464\n",
      "Epoch 21: val_loss did not improve from 8.39341\n",
      "278/278 [==============================] - 4s 15ms/step - loss: 7.2847 - gender_out_loss: 0.2754 - age_out_loss: 6.3562 - gender_out_accuracy: 0.8791 - age_out_accuracy: 0.0466 - val_loss: 10.8188 - val_gender_out_loss: 0.2765 - val_age_out_loss: 9.8842 - val_gender_out_accuracy: 0.8757 - val_age_out_accuracy: 0.0471\n",
      "Epoch 22/50\n",
      "277/278 [============================>.] - ETA: 0s - loss: 7.1862 - gender_out_loss: 0.2652 - age_out_loss: 6.2572 - gender_out_accuracy: 0.8829 - age_out_accuracy: 0.0469\n",
      "Epoch 22: val_loss improved from 8.39341 to 8.07646, saving model to Age_N_Gender_Detector.h5\n",
      "278/278 [==============================] - 4s 15ms/step - loss: 7.1850 - gender_out_loss: 0.2654 - age_out_loss: 6.2557 - gender_out_accuracy: 0.8828 - age_out_accuracy: 0.0468 - val_loss: 8.0765 - val_gender_out_loss: 0.2815 - val_age_out_loss: 7.1260 - val_gender_out_accuracy: 0.8704 - val_age_out_accuracy: 0.0471\n",
      "Epoch 23/50\n",
      "277/278 [============================>.] - ETA: 0s - loss: 7.1178 - gender_out_loss: 0.2680 - age_out_loss: 6.1746 - gender_out_accuracy: 0.8829 - age_out_accuracy: 0.0464\n",
      "Epoch 23: val_loss did not improve from 8.07646\n",
      "278/278 [==============================] - 4s 16ms/step - loss: 7.1199 - gender_out_loss: 0.2678 - age_out_loss: 6.1769 - gender_out_accuracy: 0.8829 - age_out_accuracy: 0.0463 - val_loss: 8.5399 - val_gender_out_loss: 0.2590 - val_age_out_loss: 7.5986 - val_gender_out_accuracy: 0.8838 - val_age_out_accuracy: 0.0471\n",
      "Epoch 24/50\n",
      "277/278 [============================>.] - ETA: 0s - loss: 7.0617 - gender_out_loss: 0.2660 - age_out_loss: 6.1061 - gender_out_accuracy: 0.8842 - age_out_accuracy: 0.0464\n",
      "Epoch 24: val_loss did not improve from 8.07646\n",
      "278/278 [==============================] - 4s 14ms/step - loss: 7.0587 - gender_out_loss: 0.2661 - age_out_loss: 6.1028 - gender_out_accuracy: 0.8841 - age_out_accuracy: 0.0464 - val_loss: 8.7220 - val_gender_out_loss: 0.2604 - val_age_out_loss: 7.7637 - val_gender_out_accuracy: 0.8839 - val_age_out_accuracy: 0.0471\n",
      "Epoch 25/50\n",
      "277/278 [============================>.] - ETA: 0s - loss: 7.0710 - gender_out_loss: 0.2643 - age_out_loss: 6.1045 - gender_out_accuracy: 0.8850 - age_out_accuracy: 0.0466\n",
      "Epoch 25: val_loss did not improve from 8.07646\n",
      "278/278 [==============================] - 4s 15ms/step - loss: 7.0676 - gender_out_loss: 0.2642 - age_out_loss: 6.1012 - gender_out_accuracy: 0.8851 - age_out_accuracy: 0.0466 - val_loss: 8.1851 - val_gender_out_loss: 0.2534 - val_age_out_loss: 7.2266 - val_gender_out_accuracy: 0.8851 - val_age_out_accuracy: 0.0471\n",
      "Epoch 26/50\n",
      "277/278 [============================>.] - ETA: 0s - loss: 7.0471 - gender_out_loss: 0.2628 - age_out_loss: 6.0733 - gender_out_accuracy: 0.8845 - age_out_accuracy: 0.0463\n",
      "Epoch 26: val_loss did not improve from 8.07646\n",
      "278/278 [==============================] - 4s 15ms/step - loss: 7.0480 - gender_out_loss: 0.2628 - age_out_loss: 6.0743 - gender_out_accuracy: 0.8846 - age_out_accuracy: 0.0463 - val_loss: 9.1057 - val_gender_out_loss: 0.2633 - val_age_out_loss: 8.1266 - val_gender_out_accuracy: 0.8827 - val_age_out_accuracy: 0.0471\n",
      "Epoch 27/50\n",
      "277/278 [============================>.] - ETA: 0s - loss: 7.0024 - gender_out_loss: 0.2662 - age_out_loss: 6.0140 - gender_out_accuracy: 0.8820 - age_out_accuracy: 0.0472\n",
      "Epoch 27: val_loss did not improve from 8.07646\n",
      "278/278 [==============================] - 4s 15ms/step - loss: 7.0061 - gender_out_loss: 0.2660 - age_out_loss: 6.0179 - gender_out_accuracy: 0.8820 - age_out_accuracy: 0.0471 - val_loss: 8.1856 - val_gender_out_loss: 0.2644 - val_age_out_loss: 7.1929 - val_gender_out_accuracy: 0.8784 - val_age_out_accuracy: 0.0471\n",
      "Epoch 28/50\n",
      "277/278 [============================>.] - ETA: 0s - loss: 6.8798 - gender_out_loss: 0.2551 - age_out_loss: 5.8922 - gender_out_accuracy: 0.8890 - age_out_accuracy: 0.0464\n",
      "Epoch 28: val_loss did not improve from 8.07646\n",
      "278/278 [==============================] - 4s 14ms/step - loss: 6.8778 - gender_out_loss: 0.2554 - age_out_loss: 5.8899 - gender_out_accuracy: 0.8889 - age_out_accuracy: 0.0463 - val_loss: 8.4502 - val_gender_out_loss: 0.2543 - val_age_out_loss: 7.4591 - val_gender_out_accuracy: 0.8817 - val_age_out_accuracy: 0.0471\n",
      "Epoch 29/50\n",
      "277/278 [============================>.] - ETA: 0s - loss: 6.8563 - gender_out_loss: 0.2519 - age_out_loss: 5.8618 - gender_out_accuracy: 0.8900 - age_out_accuracy: 0.0466\n",
      "Epoch 29: val_loss did not improve from 8.07646\n",
      "278/278 [==============================] - 4s 14ms/step - loss: 6.8562 - gender_out_loss: 0.2525 - age_out_loss: 5.8611 - gender_out_accuracy: 0.8898 - age_out_accuracy: 0.0468 - val_loss: 8.1594 - val_gender_out_loss: 0.2565 - val_age_out_loss: 7.1542 - val_gender_out_accuracy: 0.8875 - val_age_out_accuracy: 0.0471\n",
      "Epoch 30/50\n",
      "277/278 [============================>.] - ETA: 0s - loss: 6.8246 - gender_out_loss: 0.2560 - age_out_loss: 5.8136 - gender_out_accuracy: 0.8906 - age_out_accuracy: 0.0468\n",
      "Epoch 30: val_loss improved from 8.07646 to 7.92308, saving model to Age_N_Gender_Detector.h5\n",
      "278/278 [==============================] - 4s 15ms/step - loss: 6.8259 - gender_out_loss: 0.2562 - age_out_loss: 5.8148 - gender_out_accuracy: 0.8906 - age_out_accuracy: 0.0468 - val_loss: 7.9231 - val_gender_out_loss: 0.2642 - val_age_out_loss: 6.8990 - val_gender_out_accuracy: 0.8804 - val_age_out_accuracy: 0.0471\n",
      "Epoch 31/50\n",
      "277/278 [============================>.] - ETA: 0s - loss: 6.7950 - gender_out_loss: 0.2519 - age_out_loss: 5.7805 - gender_out_accuracy: 0.8910 - age_out_accuracy: 0.0466\n",
      "Epoch 31: val_loss improved from 7.92308 to 7.70434, saving model to Age_N_Gender_Detector.h5\n",
      "278/278 [==============================] - 4s 15ms/step - loss: 6.7915 - gender_out_loss: 0.2516 - age_out_loss: 5.7774 - gender_out_accuracy: 0.8912 - age_out_accuracy: 0.0468 - val_loss: 7.7043 - val_gender_out_loss: 0.2578 - val_age_out_loss: 6.6803 - val_gender_out_accuracy: 0.8824 - val_age_out_accuracy: 0.0471\n",
      "Epoch 32/50\n",
      "277/278 [============================>.] - ETA: 0s - loss: 6.8501 - gender_out_loss: 0.2531 - age_out_loss: 5.8246 - gender_out_accuracy: 0.8920 - age_out_accuracy: 0.0466\n",
      "Epoch 32: val_loss did not improve from 7.70434\n",
      "278/278 [==============================] - 4s 14ms/step - loss: 6.8514 - gender_out_loss: 0.2530 - age_out_loss: 5.8260 - gender_out_accuracy: 0.8919 - age_out_accuracy: 0.0467 - val_loss: 8.9428 - val_gender_out_loss: 0.2493 - val_age_out_loss: 7.9138 - val_gender_out_accuracy: 0.8859 - val_age_out_accuracy: 0.0471\n",
      "Epoch 33/50\n",
      "277/278 [============================>.] - ETA: 0s - loss: 6.8266 - gender_out_loss: 0.2513 - age_out_loss: 5.7924 - gender_out_accuracy: 0.8905 - age_out_accuracy: 0.0467\n",
      "Epoch 33: val_loss did not improve from 7.70434\n",
      "278/278 [==============================] - 4s 15ms/step - loss: 6.8262 - gender_out_loss: 0.2514 - age_out_loss: 5.7918 - gender_out_accuracy: 0.8903 - age_out_accuracy: 0.0467 - val_loss: 8.1836 - val_gender_out_loss: 0.2465 - val_age_out_loss: 7.1526 - val_gender_out_accuracy: 0.8888 - val_age_out_accuracy: 0.0471\n",
      "Epoch 34/50\n",
      "277/278 [============================>.] - ETA: 0s - loss: 6.7094 - gender_out_loss: 0.2477 - age_out_loss: 5.6699 - gender_out_accuracy: 0.8933 - age_out_accuracy: 0.0467\n",
      "Epoch 34: val_loss did not improve from 7.70434\n",
      "278/278 [==============================] - 4s 14ms/step - loss: 6.7139 - gender_out_loss: 0.2474 - age_out_loss: 5.6747 - gender_out_accuracy: 0.8933 - age_out_accuracy: 0.0467 - val_loss: 9.3578 - val_gender_out_loss: 0.2468 - val_age_out_loss: 8.3155 - val_gender_out_accuracy: 0.8858 - val_age_out_accuracy: 0.0471\n",
      "Epoch 35/50\n",
      "277/278 [============================>.] - ETA: 0s - loss: 6.6423 - gender_out_loss: 0.2435 - age_out_loss: 5.5988 - gender_out_accuracy: 0.8946 - age_out_accuracy: 0.0465\n",
      "Epoch 35: val_loss did not improve from 7.70434\n",
      "278/278 [==============================] - 4s 14ms/step - loss: 6.6452 - gender_out_loss: 0.2433 - age_out_loss: 5.6019 - gender_out_accuracy: 0.8947 - age_out_accuracy: 0.0467 - val_loss: 8.1436 - val_gender_out_loss: 0.2415 - val_age_out_loss: 7.0990 - val_gender_out_accuracy: 0.8930 - val_age_out_accuracy: 0.0471\n",
      "Epoch 36/50\n",
      "277/278 [============================>.] - ETA: 0s - loss: 6.6839 - gender_out_loss: 0.2404 - age_out_loss: 5.6343 - gender_out_accuracy: 0.8973 - age_out_accuracy: 0.0470\n",
      "Epoch 36: val_loss did not improve from 7.70434\n",
      "278/278 [==============================] - 4s 15ms/step - loss: 6.6821 - gender_out_loss: 0.2406 - age_out_loss: 5.6323 - gender_out_accuracy: 0.8973 - age_out_accuracy: 0.0470 - val_loss: 7.7233 - val_gender_out_loss: 0.2660 - val_age_out_loss: 6.6414 - val_gender_out_accuracy: 0.8804 - val_age_out_accuracy: 0.0471\n",
      "Epoch 37/50\n",
      "277/278 [============================>.] - ETA: 0s - loss: 6.5721 - gender_out_loss: 0.2370 - age_out_loss: 5.5167 - gender_out_accuracy: 0.8955 - age_out_accuracy: 0.0468\n",
      "Epoch 37: val_loss did not improve from 7.70434\n",
      "278/278 [==============================] - 4s 14ms/step - loss: 6.5800 - gender_out_loss: 0.2370 - age_out_loss: 5.5245 - gender_out_accuracy: 0.8955 - age_out_accuracy: 0.0467 - val_loss: 9.6421 - val_gender_out_loss: 0.2521 - val_age_out_loss: 8.5671 - val_gender_out_accuracy: 0.8854 - val_age_out_accuracy: 0.0471\n",
      "Epoch 38/50\n",
      "277/278 [============================>.] - ETA: 0s - loss: 6.6535 - gender_out_loss: 0.2379 - age_out_loss: 5.5845 - gender_out_accuracy: 0.8979 - age_out_accuracy: 0.0470\n",
      "Epoch 38: val_loss did not improve from 7.70434\n",
      "278/278 [==============================] - 4s 14ms/step - loss: 6.6522 - gender_out_loss: 0.2376 - age_out_loss: 5.5835 - gender_out_accuracy: 0.8980 - age_out_accuracy: 0.0470 - val_loss: 7.7968 - val_gender_out_loss: 0.2652 - val_age_out_loss: 6.6945 - val_gender_out_accuracy: 0.8745 - val_age_out_accuracy: 0.0471\n",
      "Epoch 39/50\n",
      "277/278 [============================>.] - ETA: 0s - loss: 6.5885 - gender_out_loss: 0.2428 - age_out_loss: 5.5064 - gender_out_accuracy: 0.8941 - age_out_accuracy: 0.0469\n",
      "Epoch 39: val_loss did not improve from 7.70434\n",
      "278/278 [==============================] - 4s 15ms/step - loss: 6.5855 - gender_out_loss: 0.2426 - age_out_loss: 5.5035 - gender_out_accuracy: 0.8942 - age_out_accuracy: 0.0470 - val_loss: 8.5094 - val_gender_out_loss: 0.2440 - val_age_out_loss: 7.4236 - val_gender_out_accuracy: 0.8910 - val_age_out_accuracy: 0.0471\n",
      "Epoch 40/50\n",
      "277/278 [============================>.] - ETA: 0s - loss: 6.5810 - gender_out_loss: 0.2369 - age_out_loss: 5.4960 - gender_out_accuracy: 0.8967 - age_out_accuracy: 0.0472\n",
      "Epoch 40: val_loss did not improve from 7.70434\n",
      "278/278 [==============================] - 4s 14ms/step - loss: 6.5809 - gender_out_loss: 0.2370 - age_out_loss: 5.4958 - gender_out_accuracy: 0.8967 - age_out_accuracy: 0.0471 - val_loss: 8.3699 - val_gender_out_loss: 0.2499 - val_age_out_loss: 7.2654 - val_gender_out_accuracy: 0.8863 - val_age_out_accuracy: 0.0471\n",
      "Epoch 41/50\n",
      "277/278 [============================>.] - ETA: 0s - loss: 6.5611 - gender_out_loss: 0.2362 - age_out_loss: 5.4706 - gender_out_accuracy: 0.8971 - age_out_accuracy: 0.0468\n",
      "Epoch 41: val_loss did not improve from 7.70434\n",
      "278/278 [==============================] - 4s 15ms/step - loss: 6.5608 - gender_out_loss: 0.2359 - age_out_loss: 5.4706 - gender_out_accuracy: 0.8973 - age_out_accuracy: 0.0467 - val_loss: 8.6959 - val_gender_out_loss: 0.2580 - val_age_out_loss: 7.5815 - val_gender_out_accuracy: 0.8812 - val_age_out_accuracy: 0.0471\n",
      "Epoch 42/50\n",
      "277/278 [============================>.] - ETA: 0s - loss: 6.4653 - gender_out_loss: 0.2342 - age_out_loss: 5.3733 - gender_out_accuracy: 0.9005 - age_out_accuracy: 0.0468\n",
      "Epoch 42: val_loss did not improve from 7.70434\n",
      "278/278 [==============================] - 4s 15ms/step - loss: 6.4652 - gender_out_loss: 0.2339 - age_out_loss: 5.3735 - gender_out_accuracy: 0.9006 - age_out_accuracy: 0.0467 - val_loss: 7.7814 - val_gender_out_loss: 0.2618 - val_age_out_loss: 6.6574 - val_gender_out_accuracy: 0.8799 - val_age_out_accuracy: 0.0471\n",
      "Epoch 43/50\n",
      "277/278 [============================>.] - ETA: 0s - loss: 6.5449 - gender_out_loss: 0.2402 - age_out_loss: 5.4375 - gender_out_accuracy: 0.8962 - age_out_accuracy: 0.0458\n",
      "Epoch 43: val_loss did not improve from 7.70434\n",
      "278/278 [==============================] - 4s 15ms/step - loss: 6.5458 - gender_out_loss: 0.2401 - age_out_loss: 5.4385 - gender_out_accuracy: 0.8962 - age_out_accuracy: 0.0459 - val_loss: 8.3415 - val_gender_out_loss: 0.2477 - val_age_out_loss: 7.2236 - val_gender_out_accuracy: 0.8883 - val_age_out_accuracy: 0.0469\n",
      "Epoch 44/50\n",
      "277/278 [============================>.] - ETA: 0s - loss: 6.4572 - gender_out_loss: 0.2309 - age_out_loss: 5.3525 - gender_out_accuracy: 0.9016 - age_out_accuracy: 0.0467\n",
      "Epoch 44: val_loss did not improve from 7.70434\n",
      "278/278 [==============================] - 4s 14ms/step - loss: 6.4563 - gender_out_loss: 0.2307 - age_out_loss: 5.3518 - gender_out_accuracy: 0.9018 - age_out_accuracy: 0.0467 - val_loss: 7.8856 - val_gender_out_loss: 0.2530 - val_age_out_loss: 6.7576 - val_gender_out_accuracy: 0.8851 - val_age_out_accuracy: 0.0471\n",
      "Epoch 45/50\n",
      "277/278 [============================>.] - ETA: 0s - loss: 6.4895 - gender_out_loss: 0.2301 - age_out_loss: 5.3823 - gender_out_accuracy: 0.9012 - age_out_accuracy: 0.0463\n",
      "Epoch 45: val_loss did not improve from 7.70434\n",
      "278/278 [==============================] - 4s 14ms/step - loss: 6.4910 - gender_out_loss: 0.2299 - age_out_loss: 5.3840 - gender_out_accuracy: 0.9012 - age_out_accuracy: 0.0463 - val_loss: 9.9831 - val_gender_out_loss: 0.2506 - val_age_out_loss: 8.8545 - val_gender_out_accuracy: 0.8856 - val_age_out_accuracy: 0.0471\n",
      "Epoch 46/50\n",
      "277/278 [============================>.] - ETA: 0s - loss: 6.4512 - gender_out_loss: 0.2323 - age_out_loss: 5.3390 - gender_out_accuracy: 0.9008 - age_out_accuracy: 0.0465\n",
      "Epoch 46: val_loss did not improve from 7.70434\n",
      "278/278 [==============================] - 4s 14ms/step - loss: 6.4572 - gender_out_loss: 0.2323 - age_out_loss: 5.3451 - gender_out_accuracy: 0.9009 - age_out_accuracy: 0.0465 - val_loss: 8.0859 - val_gender_out_loss: 0.2511 - val_age_out_loss: 6.9489 - val_gender_out_accuracy: 0.8893 - val_age_out_accuracy: 0.0471\n",
      "Epoch 47/50\n",
      "277/278 [============================>.] - ETA: 0s - loss: 6.4595 - gender_out_loss: 0.2333 - age_out_loss: 5.3366 - gender_out_accuracy: 0.9002 - age_out_accuracy: 0.0464\n",
      "Epoch 47: val_loss did not improve from 7.70434\n",
      "278/278 [==============================] - 4s 15ms/step - loss: 6.4618 - gender_out_loss: 0.2330 - age_out_loss: 5.3393 - gender_out_accuracy: 0.9005 - age_out_accuracy: 0.0463 - val_loss: 8.1825 - val_gender_out_loss: 0.2410 - val_age_out_loss: 7.0499 - val_gender_out_accuracy: 0.8942 - val_age_out_accuracy: 0.0467\n",
      "Epoch 48/50\n",
      "277/278 [============================>.] - ETA: 0s - loss: 6.4647 - gender_out_loss: 0.2315 - age_out_loss: 5.3380 - gender_out_accuracy: 0.9008 - age_out_accuracy: 0.0467\n",
      "Epoch 48: val_loss did not improve from 7.70434\n",
      "278/278 [==============================] - 4s 14ms/step - loss: 6.4684 - gender_out_loss: 0.2318 - age_out_loss: 5.3414 - gender_out_accuracy: 0.9008 - age_out_accuracy: 0.0466 - val_loss: 7.9696 - val_gender_out_loss: 0.2437 - val_age_out_loss: 6.8271 - val_gender_out_accuracy: 0.8905 - val_age_out_accuracy: 0.0471\n",
      "Epoch 49/50\n",
      "277/278 [============================>.] - ETA: 0s - loss: 6.3845 - gender_out_loss: 0.2269 - age_out_loss: 5.2548 - gender_out_accuracy: 0.9018 - age_out_accuracy: 0.0464\n",
      "Epoch 49: val_loss did not improve from 7.70434\n",
      "278/278 [==============================] - 4s 14ms/step - loss: 6.3846 - gender_out_loss: 0.2269 - age_out_loss: 5.2549 - gender_out_accuracy: 0.9019 - age_out_accuracy: 0.0465 - val_loss: 8.4021 - val_gender_out_loss: 0.2393 - val_age_out_loss: 7.2561 - val_gender_out_accuracy: 0.8917 - val_age_out_accuracy: 0.0471\n",
      "Epoch 50/50\n",
      "277/278 [============================>.] - ETA: 0s - loss: 6.3496 - gender_out_loss: 0.2243 - age_out_loss: 5.2164 - gender_out_accuracy: 0.9007 - age_out_accuracy: 0.0468\n",
      "Epoch 50: val_loss did not improve from 7.70434\n",
      "278/278 [==============================] - 4s 14ms/step - loss: 6.3490 - gender_out_loss: 0.2246 - age_out_loss: 5.2155 - gender_out_accuracy: 0.9005 - age_out_accuracy: 0.0468 - val_loss: 7.7219 - val_gender_out_loss: 0.2486 - val_age_out_loss: 6.5607 - val_gender_out_accuracy: 0.8866 - val_age_out_accuracy: 0.0471\n"
     ]
    }
   ],
   "source": [
    "History = Model.fit(x_train,y_train_1,batch_size=64, validation_data=(x_test,y_test_1),epochs=50,callbacks=callbacks_list)"
   ]
  },
  {
   "cell_type": "code",
   "execution_count": null,
   "id": "37bc39cf",
   "metadata": {
    "execution": {
     "iopub.execute_input": "2024-02-09T18:46:19.172138Z",
     "iopub.status.busy": "2024-02-09T18:46:19.171781Z",
     "iopub.status.idle": "2024-02-09T18:46:20.891753Z",
     "shell.execute_reply": "2024-02-09T18:46:20.890757Z"
    },
    "papermill": {
     "duration": 2.075969,
     "end_time": "2024-02-09T18:46:20.893637",
     "exception": false,
     "start_time": "2024-02-09T18:46:18.817668",
     "status": "completed"
    },
    "tags": []
   },
   "outputs": [
    {
     "name": "stdout",
     "output_type": "stream",
     "text": [
      "186/186 [==============================] - 1s 5ms/step - loss: 7.7219 - gender_out_loss: 0.2486 - age_out_loss: 6.5607 - gender_out_accuracy: 0.8866 - age_out_accuracy: 0.0471\n"
     ]
    },
    {
     "data": {
      "text/plain": [
       "[7.72194766998291,\n",
       " 0.2486163079738617,\n",
       " 6.560676574707031,\n",
       " 0.8866205215454102,\n",
       " 0.047072719782590866]"
      ]
     },
     "execution_count": 31,
     "metadata": {},
     "output_type": "execute_result"
    }
   ],
   "source": [
    "Model.evaluate(x_test,y_test_1)"
   ]
  },
  {
   "cell_type": "code",
   "execution_count": null,
   "id": "c6759f16",
   "metadata": {
    "execution": {
     "iopub.execute_input": "2024-02-09T18:46:21.532628Z",
     "iopub.status.busy": "2024-02-09T18:46:21.532015Z",
     "iopub.status.idle": "2024-02-09T18:46:21.847319Z",
     "shell.execute_reply": "2024-02-09T18:46:21.846310Z"
    },
    "papermill": {
     "duration": 0.641921,
     "end_time": "2024-02-09T18:46:21.849705",
     "exception": false,
     "start_time": "2024-02-09T18:46:21.207784",
     "status": "completed"
    },
    "tags": []
   },
   "outputs": [],
   "source": [
    "\n",
    "Model = tf.keras.models.load_model('/kaggle/working/Age_N_Gender_Detector.h5')"
   ]
  },
  {
   "cell_type": "code",
   "execution_count": null,
   "id": "f5ff1461",
   "metadata": {
    "execution": {
     "iopub.execute_input": "2024-02-09T18:46:22.476925Z",
     "iopub.status.busy": "2024-02-09T18:46:22.476073Z",
     "iopub.status.idle": "2024-02-09T18:46:23.826815Z",
     "shell.execute_reply": "2024-02-09T18:46:23.825976Z"
    },
    "papermill": {
     "duration": 1.667416,
     "end_time": "2024-02-09T18:46:23.828972",
     "exception": false,
     "start_time": "2024-02-09T18:46:22.161556",
     "status": "completed"
    },
    "tags": []
   },
   "outputs": [
    {
     "name": "stdout",
     "output_type": "stream",
     "text": [
      "186/186 [==============================] - 1s 3ms/step\n"
     ]
    }
   ],
   "source": [
    "predicted = Model.predict(x_test)"
   ]
  },
  {
   "cell_type": "code",
   "execution_count": null,
   "id": "48c9ea1d",
   "metadata": {
    "execution": {
     "iopub.execute_input": "2024-02-09T18:46:24.488951Z",
     "iopub.status.busy": "2024-02-09T18:46:24.488594Z",
     "iopub.status.idle": "2024-02-09T18:46:24.743430Z",
     "shell.execute_reply": "2024-02-09T18:46:24.742677Z"
    },
    "papermill": {
     "duration": 0.604589,
     "end_time": "2024-02-09T18:46:24.745434",
     "exception": false,
     "start_time": "2024-02-09T18:46:24.140845",
     "status": "completed"
    },
    "tags": []
   },
   "outputs": [
    {
     "data": {
      "image/png": "[encoded data removed]",
      "text/plain": [
       "<Figure size 640x480 with 1 Axes>"
      ]
     },
     "metadata": {},
     "output_type": "display_data"
    }
   ],
   "source": [
    "plt.plot(History.history['loss'])\n",
    "plt.plot(History.history['val_loss'])\n",
    "plt.title('Model Loss')\n",
    "plt.xlabel=('Epoch')\n",
    "plt.ylabel=('Loss')\n",
    "plt.legend(['Train','Validation'],loc='upper left')\n",
    "plt.subplots_adjust(top=1.0,bottom=0.0,right=0.95,left=0,hspace=0.25,wspace=0.35)"
   ]
  },
  {
   "cell_type": "code",
   "execution_count": null,
   "id": "e480229d",
   "metadata": {
    "_kg_hide-input": true,
    "execution": {
     "iopub.execute_input": "2024-02-09T18:46:25.419913Z",
     "iopub.status.busy": "2024-02-09T18:46:25.419118Z",
     "iopub.status.idle": "2024-02-09T18:46:25.690175Z",
     "shell.execute_reply": "2024-02-09T18:46:25.689312Z"
    },
    "papermill": {
     "duration": 0.630685,
     "end_time": "2024-02-09T18:46:25.692330",
     "exception": false,
     "start_time": "2024-02-09T18:46:25.061645",
     "status": "completed"
    },
    "tags": []
   },
   "outputs": [
    {
     "data": {
      "image/png": "[encoded data removed]",
      "text/plain": [
       "<Figure size 640x480 with 1 Axes>"
      ]
     },
     "metadata": {},
     "output_type": "display_data"
    }
   ],
   "source": [
    "plt.plot(History.history['gender_out_accuracy'])\n",
    "plt.plot(History.history['val_gender_out_accuracy'])\n",
    "plt.title('Model Accuracy')\n",
    "plt.xlabel = ('Epoch')\n",
    "plt.ylabel = ('Accuracy')\n",
    "plt.legend(['Train','Validation'],loc='upper left')\n",
    "plt.subplots_adjust(top=1.0,bottom=0.0,right=0.95,left=0,hspace=0.25,wspace=0.35)"
   ]
  },
  {
   "cell_type": "code",
   "execution_count": null,
   "id": "d0538e45",
   "metadata": {
    "execution": {
     "iopub.execute_input": "2024-02-09T18:46:26.317451Z",
     "iopub.status.busy": "2024-02-09T18:46:26.317046Z",
     "iopub.status.idle": "2024-02-09T18:46:26.520914Z",
     "shell.execute_reply": "2024-02-09T18:46:26.519933Z"
    },
    "papermill": {
     "duration": 0.519016,
     "end_time": "2024-02-09T18:46:26.523105",
     "exception": false,
     "start_time": "2024-02-09T18:46:26.004089",
     "status": "completed"
    },
    "tags": []
   },
   "outputs": [
    {
     "data": {
      "image/png": "[encoded data removed]",
      "text/plain": [
       "<Figure size 640x480 with 1 Axes>"
      ]
     },
     "metadata": {},
     "output_type": "display_data"
    }
   ],
   "source": [
    "fig,ax = plt.subplots()\n",
    "ax.scatter(y_test_1[1],predicted[1])\n",
    "ax.plot([y_test_1[1].min(),y_test_1[1].max()],[y_test_1[1].min(),y_test_1[1].max()],'k--',lw=4)\n",
    "ax.set_xlabel('Actual Age')\n",
    "ax.set_ylabel('Predicted Age')\n",
    "plt.show()"
   ]
  },
  {
   "cell_type": "code",
   "execution_count": null,
   "id": "9369d7ad",
   "metadata": {
    "execution": {
     "iopub.execute_input": "2024-02-09T18:46:27.172170Z",
     "iopub.status.busy": "2024-02-09T18:46:27.171352Z",
     "iopub.status.idle": "2024-02-09T18:46:27.211180Z",
     "shell.execute_reply": "2024-02-09T18:46:27.210450Z"
    },
    "papermill": {
     "duration": 0.371691,
     "end_time": "2024-02-09T18:46:27.213178",
     "exception": false,
     "start_time": "2024-02-09T18:46:26.841487",
     "status": "completed"
    },
    "tags": []
   },
   "outputs": [],
   "source": [
    "predicted_gender = list()\n",
    "for i in range(len(predicted[0])):\n",
    "    predicted_gender.append(int(np.round(predicted[0][i])))"
   ]
  },
  {
   "cell_type": "code",
   "execution_count": null,
   "id": "f1416a18",
   "metadata": {
    "execution": {
     "iopub.execute_input": "2024-02-09T18:46:27.845976Z",
     "iopub.status.busy": "2024-02-09T18:46:27.845247Z",
     "iopub.status.idle": "2024-02-09T18:46:27.862195Z",
     "shell.execute_reply": "2024-02-09T18:46:27.861459Z"
    },
    "papermill": {
     "duration": 0.336736,
     "end_time": "2024-02-09T18:46:27.864178",
     "exception": false,
     "start_time": "2024-02-09T18:46:27.527442",
     "status": "completed"
    },
    "tags": []
   },
   "outputs": [],
   "source": [
    "report = classification_report(y_test_1[0],predicted_gender)"
   ]
  },
  {
   "cell_type": "code",
   "execution_count": null,
   "id": "10677514",
   "metadata": {
    "execution": {
     "iopub.execute_input": "2024-02-09T18:46:28.567293Z",
     "iopub.status.busy": "2024-02-09T18:46:28.566440Z",
     "iopub.status.idle": "2024-02-09T18:46:28.571553Z",
     "shell.execute_reply": "2024-02-09T18:46:28.570587Z"
    },
    "papermill": {
     "duration": 0.371387,
     "end_time": "2024-02-09T18:46:28.573643",
     "exception": false,
     "start_time": "2024-02-09T18:46:28.202256",
     "status": "completed"
    },
    "tags": []
   },
   "outputs": [
    {
     "name": "stdout",
     "output_type": "stream",
     "text": [
      "              precision    recall  f1-score   support\n",
      "\n",
      "           0       0.93      0.84      0.88      3113\n",
      "           1       0.84      0.93      0.88      2814\n",
      "\n",
      "    accuracy                           0.88      5927\n",
      "   macro avg       0.89      0.88      0.88      5927\n",
      "weighted avg       0.89      0.88      0.88      5927\n",
      "\n"
     ]
    }
   ],
   "source": [
    "print(report)"
   ]
  },
  {
   "cell_type": "code",
   "execution_count": null,
   "id": "17493546",
   "metadata": {
    "execution": {
     "iopub.execute_input": "2024-02-09T18:46:29.215144Z",
     "iopub.status.busy": "2024-02-09T18:46:29.214238Z",
     "iopub.status.idle": "2024-02-09T18:46:29.222502Z",
     "shell.execute_reply": "2024-02-09T18:46:29.221793Z"
    },
    "papermill": {
     "duration": 0.329685,
     "end_time": "2024-02-09T18:46:29.224390",
     "exception": false,
     "start_time": "2024-02-09T18:46:28.894705",
     "status": "completed"
    },
    "tags": []
   },
   "outputs": [],
   "source": [
    "cm = confusion_matrix(y_test_1[0],predicted_gender)"
   ]
  },
  {
   "cell_type": "code",
   "execution_count": null,
   "id": "29d107c6",
   "metadata": {
    "execution": {
     "iopub.execute_input": "2024-02-09T18:46:29.880276Z",
     "iopub.status.busy": "2024-02-09T18:46:29.879426Z",
     "iopub.status.idle": "2024-02-09T18:46:30.086943Z",
     "shell.execute_reply": "2024-02-09T18:46:30.085986Z"
    },
    "papermill": {
     "duration": 0.546176,
     "end_time": "2024-02-09T18:46:30.088997",
     "exception": false,
     "start_time": "2024-02-09T18:46:29.542821",
     "status": "completed"
    },
    "tags": []
   },
   "outputs": [
    {
     "data": {
      "text/plain": [
       "<Axes: >"
      ]
     },
     "execution_count": 41,
     "metadata": {},
     "output_type": "execute_result"
    },
    {
     "data": {
      "image/png": "[encoded data removed]",
      "text/plain": [
       "<Figure size 640x480 with 2 Axes>"
      ]
     },
     "metadata": {},
     "output_type": "display_data"
    }
   ],
   "source": [
    "sns.heatmap(cm,annot=True)"
   ]
  },
  {
   "cell_type": "code",
   "execution_count": null,
   "id": "6a210880",
   "metadata": {
    "execution": {
     "iopub.execute_input": "2024-02-09T18:46:30.729045Z",
     "iopub.status.busy": "2024-02-09T18:46:30.728691Z",
     "iopub.status.idle": "2024-02-09T18:46:30.734847Z",
     "shell.execute_reply": "2024-02-09T18:46:30.733938Z"
    },
    "papermill": {
     "duration": 0.329485,
     "end_time": "2024-02-09T18:46:30.736794",
     "exception": false,
     "start_time": "2024-02-09T18:46:30.407309",
     "status": "completed"
    },
    "tags": []
   },
   "outputs": [],
   "source": [
    "def predict(idx):\n",
    "    test_image = images_np_1[idx]\n",
    "    plt.imshow(images_np[idx])\n",
    "    test_result = Model.predict(np.array([test_image]))\n",
    "    age = int(np.round(test_result[1][0]))\n",
    "    gender = int(np.round(test_result[0][0]))\n",
    "    if(gender):\n",
    "        print('Female')\n",
    "    else:\n",
    "        print('Male')\n",
    "    print('Age: ',age)\n",
    "    return"
   ]
  },
  {
   "cell_type": "code",
   "execution_count": null,
   "id": "e37276d1",
   "metadata": {
    "execution": {
     "iopub.execute_input": "2024-02-09T18:46:31.411875Z",
     "iopub.status.busy": "2024-02-09T18:46:31.411494Z",
     "iopub.status.idle": "2024-02-09T18:46:32.021898Z",
     "shell.execute_reply": "2024-02-09T18:46:32.020970Z"
    },
    "papermill": {
     "duration": 0.972847,
     "end_time": "2024-02-09T18:46:32.023809",
     "exception": false,
     "start_time": "2024-02-09T18:46:31.050962",
     "status": "completed"
    },
    "tags": []
   },
   "outputs": [
    {
     "name": "stdout",
     "output_type": "stream",
     "text": [
      "1/1 [==============================] - 0s 390ms/step\n",
      "Female\n",
      "Age:  33\n"
     ]
    },
    {
     "data": {
      "image/png": "[encoded data removed]",
      "text/plain": [
       "<Figure size 640x480 with 1 Axes>"
      ]
     },
     "metadata": {},
     "output_type": "display_data"
    }
   ],
   "source": [
    "predict(11)"
   ]
  },
  {
   "cell_type": "code",
   "execution_count": null,
   "id": "3d7deccf",
   "metadata": {
    "papermill": {
     "duration": 0.315672,
     "end_time": "2024-02-09T18:46:32.654758",
     "exception": false,
     "start_time": "2024-02-09T18:46:32.339086",
     "status": "completed"
    },
    "tags": []
   },
   "outputs": [],
   "source": []
  },
  {
   "cell_type": "code",
   "execution_count": null,
   "id": "b136b0e3",
   "metadata": {
    "papermill": {
     "duration": 0.3122,
     "end_time": "2024-02-09T18:46:33.283411",
     "exception": false,
     "start_time": "2024-02-09T18:46:32.971211",
     "status": "completed"
    },
    "tags": []
   },
   "outputs": [],
   "source": []
  },
  {
   "cell_type": "code",
   "execution_count": null,
   "id": "01213509",
   "metadata": {
    "papermill": {
     "duration": 0.332685,
     "end_time": "2024-02-09T18:46:33.930598",
     "exception": false,
     "start_time": "2024-02-09T18:46:33.597913",
     "status": "completed"
    },
    "tags": []
   },
   "outputs": [],
   "source": []
  }
 ],
 "metadata": {
  "kaggle": {
   "accelerator": "nvidiaTeslaT4",
   "dataSources": [
    {
     "datasetId": 44109,
     "sourceId": 78156,
     "sourceType": "datasetVersion"
    }
   ],
   "dockerImageVersionId": 30646,
   "isGpuEnabled": true,
   "isInternetEnabled": false,
   "language": "python",
   "sourceType": "notebook"
  },
  "kernelspec": {
   "display_name": "Python 3",
   "language": "python",
   "name": "python3"
  },
  "language_info": {
   "codemirror_mode": {
    "name": "ipython",
    "version": 3
   },
   "file_extension": ".py",
   "mimetype": "text/x-python",
   "name": "python",
   "nbconvert_exporter": "python",
   "pygments_lexer": "ipython3",
   "version": "3.11.4"
  },
  "papermill": {
   "default_parameters": {},
   "duration": 373.632258,
   "end_time": "2024-02-09T18:46:36.710215",
   "environment_variables": {},
   "exception": null,
   "input_path": "__notebook__.ipynb",
   "output_path": "__notebook__.ipynb",
   "parameters": {},
   "start_time": "2024-02-09T18:40:23.077957",
   "version": "2.5.0"
  }
 },
 "nbformat": 4,
 "nbformat_minor": 5
}
